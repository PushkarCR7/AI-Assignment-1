{
 "cells": [
  {
   "cell_type": "code",
   "execution_count": 6,
   "id": "7b138ba0",
   "metadata": {},
   "outputs": [
    {
     "name": "stdout",
     "output_type": "stream",
     "text": [
      "        Student  Subject1  Subject2  Subject3  Total_marks Grade Pass/Fail\n",
      "0       pushkar        91        89        94          274     A         P\n",
      "1      abhijith        45        65        34          144    RA         F\n",
      "2       vardhan        89        91        74          254     A         P\n",
      "3  durga prasad        96        79        89          264     A         P\n"
     ]
    }
   ],
   "source": [
    "import pandas as pd\n",
    "data={\n",
    "    \"Student\":[\"pushkar\",\"abhijith\",\"vardhan\",\"durga prasad\"],\n",
    "    \"Subject1\":[91,45,89,96],\n",
    "    \"Subject2\":[89,65,91,79],\n",
    "    \"Subject3\":[94,34,74,89]\n",
    "}\n",
    "columnsList=[\"Subject1\",\"Subject2\",\"Subject3\"]\n",
    "answer=pd.DataFrame(data,columns = [\"Student\",\"Subject1\",\"Subject2\",\"Subject3\"])\n",
    "answer[\"Total_marks\"]=answer[columnsList].sum(axis=1)\n",
    "columnList1=answer[\"Total_marks\"].tolist()\n",
    "fp=[]\n",
    "grade=[]\n",
    "\n",
    "for ind in answer.index:\n",
    "     if((answer[\"Total_marks\"][ind])<200):\n",
    "            fp.append(\"F\")\n",
    "     else:\n",
    "        fp.append(\"P\")\n",
    "     if((answer[\"Total_marks\"][ind])>275):\n",
    "        grade.append(\"O\")\n",
    "     elif((answer[\"Total_marks\"][ind])>250):\n",
    "        grade.append(\"A\")\n",
    "     elif((answer[\"Total_marks\"][ind])>225):\n",
    "        grade.append(\"B\")\n",
    "     elif((answer[\"Total_marks\"][ind])>200):\n",
    "        grade.append(\"C\")\n",
    "     elif((answer[\"Total_marks\"][ind])<200):\n",
    "        grade.append(\"RA\")\n",
    "    \n",
    "answer[\"Grade\"]=grade\n",
    "answer[\"Pass/Fail\"]=fp\n",
    "answer.to_csv(\"assignment1.csv\",index=True)\n",
    "\n",
    "print(answer)"
   ]
  },
  {
   "cell_type": "code",
   "execution_count": null,
   "id": "76fe97fb",
   "metadata": {},
   "outputs": [],
   "source": []
  }
 ],
 "metadata": {
  "kernelspec": {
   "display_name": "Python 3 (ipykernel)",
   "language": "python",
   "name": "python3"
  },
  "language_info": {
   "codemirror_mode": {
    "name": "ipython",
    "version": 3
   },
   "file_extension": ".py",
   "mimetype": "text/x-python",
   "name": "python",
   "nbconvert_exporter": "python",
   "pygments_lexer": "ipython3",
   "version": "3.9.7"
  }
 },
 "nbformat": 4,
 "nbformat_minor": 5
}
